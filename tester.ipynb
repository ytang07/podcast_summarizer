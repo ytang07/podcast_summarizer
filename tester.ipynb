{
 "cells": [
  {
   "cell_type": "code",
   "execution_count": 1,
   "metadata": {},
   "outputs": [],
   "source": [
    "from youtube_transcript_api import YouTubeTranscriptApi\n",
    "\n",
    "transcript_as_list = YouTubeTranscriptApi.get_transcript(\"HYVeP4F0GNU\")"
   ]
  },
  {
   "cell_type": "code",
   "execution_count": 2,
   "metadata": {},
   "outputs": [
    {
     "data": {
      "text/plain": [
       "True"
      ]
     },
     "execution_count": 2,
     "metadata": {},
     "output_type": "execute_result"
    }
   ],
   "source": [
    "from dotenv import load_dotenv\n",
    "load_dotenv()"
   ]
  },
  {
   "cell_type": "code",
   "execution_count": 3,
   "metadata": {},
   "outputs": [],
   "source": [
    "import json"
   ]
  },
  {
   "cell_type": "code",
   "execution_count": 4,
   "metadata": {},
   "outputs": [],
   "source": [
    "import os\n",
    "os.environ[\"OCTOAI_TOKEN\"] = os.getenv(\"OCTOAI_API_TOKEN\")"
   ]
  },
  {
   "cell_type": "code",
   "execution_count": 5,
   "metadata": {},
   "outputs": [],
   "source": [
    "from octoai.client import Client\n",
    "\n",
    "client = Client()"
   ]
  },
  {
   "cell_type": "code",
   "execution_count": 6,
   "metadata": {},
   "outputs": [],
   "source": [
    "transcript_string = \"\"\n",
    "for entry in transcript_as_list:\n",
    "    transcript_string += entry['text']+ \" \""
   ]
  },
  {
   "cell_type": "code",
   "execution_count": 7,
   "metadata": {},
   "outputs": [
    {
     "data": {
      "text/plain": [
       "154763"
      ]
     },
     "execution_count": 7,
     "metadata": {},
     "output_type": "execute_result"
    }
   ],
   "source": [
    "len(transcript_string)"
   ]
  },
  {
   "cell_type": "code",
   "execution_count": 8,
   "metadata": {},
   "outputs": [
    {
     "data": {
      "text/plain": [
       "4095"
      ]
     },
     "execution_count": 8,
     "metadata": {},
     "output_type": "execute_result"
    }
   ],
   "source": [
    "len(transcript_as_list)"
   ]
  },
  {
   "cell_type": "code",
   "execution_count": 9,
   "metadata": {},
   "outputs": [],
   "source": [
    "transcripts_chunked = []\n",
    "current_chunk = \" \"\n",
    "for entry in transcript_as_list:\n",
    "    entry_text = entry[\"text\"] + \" \"\n",
    "    if len(current_chunk) + len(entry_text) <= 8192:\n",
    "        current_chunk += entry_text\n",
    "    else:\n",
    "        transcripts_chunked.append(current_chunk[:-1])\n",
    "        current_chunk = entry_text\n",
    "transcripts_chunked.append(current_chunk)"
   ]
  },
  {
   "cell_type": "code",
   "execution_count": 10,
   "metadata": {},
   "outputs": [
    {
     "data": {
      "text/plain": [
       "19"
      ]
     },
     "execution_count": 10,
     "metadata": {},
     "output_type": "execute_result"
    }
   ],
   "source": [
    "len(transcripts_chunked)"
   ]
  },
  {
   "cell_type": "code",
   "execution_count": 11,
   "metadata": {},
   "outputs": [],
   "source": [
    "def get_summary(snippet: str) -> dict:\n",
    "\n",
    "    completion = client.chat.completions.create(\n",
    "    messages=[\n",
    "            {\n",
    "                \"role\": \"system\",\n",
    "                \"content\": \"You are a helpful assistant. Summarize the user input. Keep your responses limited to one short paragraph if possible.\"\n",
    "            },\n",
    "            {\n",
    "                \"role\": \"user\",\n",
    "                \"content\": f\"{snippet}\"\n",
    "            }\n",
    "        ],\n",
    "        model=\"nous-hermes-2-mixtral-8x7b-dpo\",\n",
    "        max_tokens=7500,\n",
    "        presence_penalty=0,\n",
    "        temperature=0.1,\n",
    "        top_p=0.9,\n",
    "    )\n",
    "    return completion.dict()"
   ]
  },
  {
   "cell_type": "code",
   "execution_count": 12,
   "metadata": {},
   "outputs": [],
   "source": [
    "summaries = []\n",
    "for chunk in transcripts_chunked:\n",
    "    octo_output = get_summary(chunk)\n",
    "    summaries.append(octo_output[\"choices\"][0][\"message\"][\"content\"])"
   ]
  },
  {
   "cell_type": "code",
   "execution_count": 13,
   "metadata": {},
   "outputs": [
    {
     "data": {
      "text/plain": [
       "['In this podcast, Dr. Andrew Huberman interviews Dr. Mark Desposito, a neurologist and professor of neuroscience and psychology at the University of California, Berkeley. They discuss executive function, memory, and the neural circuits controlling them. They also explore the role of dopamine in executive function and working memory, as well as ways to optimize cognitive function in both healthy and diseased or injured brains. The podcast is sponsored by Maui Nui Venison, JOOVV Red Light Therapy, and 8 Sleep Smart Mattress Covers.',\n",
       " 'The user discussed the prefrontal cortex, also known as the frontal lobe, which is responsible for higher-level cognitive abilities and executive functions such as planning, organizing, and cognitive control. They mentioned that the frontal lobe is the last part of the brain to fully develop, around the early 20s, and its slow development allows for exploration and flexibility. The frontal lobe is divided into subregions, with the lateral portion involved in executive functions and the orbital frontal cortex involved in social and emotional behavior. The user also touched upon the idea of context-dependent rules and algorithms that the frontal lobe helps to navigate, ensuring appropriate behavior in different situations.',\n",
       " \"the field of neuroscience is that we've learned that the brain is much more plastic and adaptable than we previously thought. The prefrontal cortex can learn rules and strategies that can be applied to various situations, allowing for generalization. By practicing focus and self-control in different contexts, individuals can strengthen their prefrontal cortical abilities, which can have a positive impact on their overall executive functioning. While context can play a role in how these skills are applied, the brain's ability to adapt and learn from various experiences can help improve focus and attention in multiple situations.\",\n",
       " \"context. The user discusses cognitive therapy, specifically goal management training, which aims to improve executive function abilities and translate these improvements to real-life situations. They mention the prefrontal cortex's connections to various parts of the brain and its role in directing attention, controlling behavior, and influencing bodily functions such as heart rate and respiration. The user also briefly talks about a supplement called AG1, which supports mental and physical health by providing essential vitamins, minerals, probiotics, and adaptogens.\",\n",
       " \"The user discusses the differences between frontal cortex damage and Cluver-Buy syndrome, highlighting the importance of the frontal cortex in allowing us to be who we are and translating knowledge into action based on our intentions, goals, and desires. They also mention the role of the frontal cortex in regulating emotional states and adapting to novel situations. The user raises concerns about the impact of technology, specifically smartphones and social media, on the brain's algorithms and whether these algorithms are neutral, positive, or negative. They question whether these algorithms help us become better people in other domains or if they should be a cause for concern.\",\n",
       " 'memory or is it a brake? Dopamine is thought to play a role in working memory, but its exact function is still being researched. Some studies suggest that dopamine acts as an accelerator, enhancing the ability to hold and manipulate information in working memory. However, other research indicates that dopamine may act as a brake, limiting the amount of information that can be held in working memory. The relationship between dopamine and working memory is complex and likely depends on various factors, including individual differences and the specific task being performed.',\n",
       " \"The user discussed the role of dopamine in working memory and its connection to physical movement. Dopamine is a neuromodulator that projects to different parts of the brain, affecting motor function and working memory. In the frontal cortex, dopamine helps maintain persistent neural activity, which is crucial for working memory. The user also mentioned that dopamine's role in memory and movement is determined by the specific circuits it acts upon. They briefly touched upon the importance of electrolytes, such as those found in the drink Element, for optimal mental and physical functioning. The user concluded by discussing the inverted U-shape function of dopamine levels and the difficulty in measuring dopamine levels in the blood.\",\n",
       " \"The user discussed the challenges of measuring dopamine levels in the brain, particularly in areas like the prefrontal cortex. They mentioned invasive procedures such as positron emission tomography (PET) scans, which involve injecting a radioisotope to tag dopamine and measure its levels. The PET scan was originally developed to diagnose Parkinson's disease. The user also explained that working memory capacity can serve as a strong proxy for dopamine levels, as individuals with higher dopamine levels tend to have better working memory. Genetic studies, specifically looking at the enzyme COMT, can also provide insight into dopamine levels, as variations in this enzyme can lead to either higher or lower dopamine levels in the prefrontal cortex. The user expressed disappointment that pharmaceutical companies have not developed drugs to improve cognition, despite the clear data and potential financial benefits. They mentioned that bromocriptine, a dopamine agonist, could be a candidate for such a drug, but it has not been pursued by pharmaceutical companies due to their focus on disease-specific treatments rather than addressing cognitive dysfunction.\",\n",
       " 'The user discussed the impact of dopamine agonists on working memory, mentioning bromocriptine as an example. They explained that different agonists may have varying effects on working memory due to their interactions with different receptor pathways. The user also mentioned other drugs, such as par, which inhibits an enzyme related to working memory, and norupan, which may also be helpful for working memory. They emphasized the importance of considering combinations of neurotransmitters and individual neurochemistry when developing treatments for cognitive enhancement. The user briefly touched on the use of pupil dilation as a proxy for arousal and neurotransmitter levels, but did not elaborate on its clinical application.',\n",
       " 'concussions actually occur in car accidents and falls, and they can have a significant impact on cognitive function and working memory. In treating these conditions, understanding the role of dopamine and other neurotransmitters is crucial, as they play a key role in modulating cognitive processes. Pharmacological interventions, such as bromocriptine, can help optimize brain function in these patients, but it is essential to carefully monitor and adjust dosages to avoid potential side effects and ensure the best possible outcomes. Additionally, maintaining good sleep habits and overall brain health through proper nutrition and cognitive therapy can further support recovery and improve overall cognitive function.',\n",
       " \"The user discussed the prevalence of concussions and traumatic brain injuries (TBI) in various situations, not just sports-related incidents. They mentioned that concussions are more recognized now and that persistent post-concussion syndrome is a concern. The user explained the mechanism of a concussion as tearing of axons in the brain and how it affects brain function, particularly in the frontal lobes. They also discussed the impact of a poor night's sleep on brain function and the importance of addressing sleep issues in patients with TBI or concussion.\",\n",
       " 'The speaker discusses the importance of optimizing sleep and nutrition for concussion patients, as well as the shift in recommendations for activity post-concussion. They emphasize the need for patients to gradually return to work and engage in cognitive training exercises, such as those provided by Brain HQ. The speaker also highlights the ongoing plasticity of the brain and the potential for cognitive decline with aging, particularly in the frontal executive system. They advocate for a focus on promoting brain health and optimizing cognitive function, rather than solely preventing disease. The speaker believes that simple practices, like redirecting focus and engaging in challenging mental activities, can help maintain and improve cognitive function.',\n",
       " 'important, but the user emphasizes the need for a structured approach to optimizing brain health, similar to physical fitness. They discuss the importance of sleep, exercise, and nutrition, as well as social interactions, reading, and learning new skills. The user highlights the lack of a standardized measure for brain health and expresses hope for the development of a brain health index that can track progress and guide interventions.',\n",
       " \"The user discussed the importance of human interaction and executive functioning in education, as well as the role of technology. They also mentioned the benefits of life coaching and activities like chess and improv for cognitive development. The conversation then shifted to Alzheimer's and Parkinson's diseases, with a focus on the genetic links, current treatments, and challenges in finding a cure for Alzheimer's. The user also mentioned the over-the-counter supplement Muna purines, which contains lopa, a component used in Parkinson's treatment.\",\n",
       " \"The user discussed their experience with feeling agitated and having twinkly vision, which they believe was not a high. They mentioned that in early neurology, patients couldn't receive enough elopa without feeling bad, but the introduction of cinet allowed for more dopamine to reach the brain. The user then discussed Alzheimer's treatment, emphasizing the importance of good sleep, socialization, and cognitive engagement. They also mentioned the potential benefits of nicotine as a cognitive enhancer and its possible role in staving off Parkinson's and Alzheimer's. The user asked about sex differences in dopamine levels and working memory, to which the response highlighted the role of estrogen in modulating frontal lobe function and its interaction with dopamine.\",\n",
       " \"The user discussed the importance of hormones, particularly estrogen, in cognition and vascular function for both men and women. They mentioned the misconception that testosterone is more important for men and highlighted the cognitive and vascular defects that can occur in men with low estrogen levels. The user also touched on the role of estrogen in boosting dopamine activity and how it fluctuates during a woman's menstrual cycle. They explored the connection between physical exercise, particularly aerobic exercise, and improvements in working memory, cognition, and executive function. The user also mentioned the benefits of mindfulness practices in boosting executive function and providing a different perspective on problems. Finally, they briefly discussed the emerging interest in psychedelics as a potential therapy and the changing landscape of conversations among neurologists and neurobiologists.\",\n",
       " 'The user discusses the importance of mindfulness meditation and the impact of brain health on daily life. They mention the significance of brain networks and their organization, specifically the concept of modularity, which measures the separation of brain functions. The user shares a study where modularity was used to predict the improvement of traumatic brain injury patients after goal management training. This concept has been found to be a robust predictor across various populations and therapies. The user expresses excitement about the translation of neuroscience research into helping people and the shift towards thinking about the brain as a network rather than focusing on specific areas.',\n",
       " 'The user discussed the importance of understanding brain network activity and action states rather than focusing solely on specific brain regions. They mentioned the need for a naming system for waking states similar to the classification of sleep stages and expressed interest in developing a modularity metric for real-time brain state monitoring. The user also touched on the potential use of psychedelics like Sil cybin for depression treatment and the relationship between increased resting state connectivity and cognitive function. They emphasized the distinction between brain state and trait connectivity, noting that less modularity can be beneficial during demanding tasks.',\n",
       " \"The user had a discussion with Dr. Mark Desposito about the brain mechanisms of cognition and memory, and how to optimize cognition and memory. They covered topics such as working memory deficits, traumatic brain injury, concussion, Alzheimer's, and Parkinson's. They also discussed interventions like bromocriptine, mindfulness exercises, and transcranial magnetic stimulation. The user expressed gratitude for the insights and the possibility of exploring various ways to alleviate these conditions and optimize brain function and health. They also mentioned the importance of patients being advocates for their own health and understanding the possibilities available to them.\"]"
      ]
     },
     "execution_count": 13,
     "metadata": {},
     "output_type": "execute_result"
    }
   ],
   "source": [
    "summaries"
   ]
  },
  {
   "cell_type": "code",
   "execution_count": 15,
   "metadata": {},
   "outputs": [],
   "source": [
    "full_len = sum(len(summaries[i]) for i in range(len(summaries)))"
   ]
  },
  {
   "cell_type": "code",
   "execution_count": 16,
   "metadata": {},
   "outputs": [
    {
     "data": {
      "text/plain": [
       "13166"
      ]
     },
     "execution_count": 16,
     "metadata": {},
     "output_type": "execute_result"
    }
   ],
   "source": [
    "full_len"
   ]
  },
  {
   "cell_type": "code",
   "execution_count": 19,
   "metadata": {},
   "outputs": [],
   "source": [
    "# no idea how long of a token string this is\n",
    "full_snippet = \" \".join(summaries)\n",
    "summarized_summary = get_summary(full_snippet)[\"choices\"][0][\"message\"][\"content\"]"
   ]
  },
  {
   "cell_type": "code",
   "execution_count": 20,
   "metadata": {},
   "outputs": [
    {
     "data": {
      "text/plain": [
       "\"In this podcast, Dr. Andrew Huberman interviews Dr. Mark Desposito on executive function, memory, and neural circuits. They discuss the role of dopamine in executive function and working memory, as well as ways to optimize cognitive function in healthy and diseased or injured brains. The conversation covers topics such as the prefrontal cortex, cognitive therapy, dopamine's role in memory and movement, measuring dopamine levels, dopamine agonists, concussions, brain health, Alzheimer's and Parkinson's diseases, sex differences in dopamine levels, mindfulness meditation, and psychedelics. They also explore the importance of understanding brain network activity and action states, and the potential use of psychedelics like Sil cybin for depression treatment.\""
      ]
     },
     "execution_count": 20,
     "metadata": {},
     "output_type": "execute_result"
    }
   ],
   "source": [
    "summarized_summary"
   ]
  },
  {
   "cell_type": "code",
   "execution_count": 20,
   "metadata": {},
   "outputs": [
    {
     "name": "stdout",
     "output_type": "stream",
     "text": [
      "{\n",
      "  \"id\": \"cmpl-78b97af3d0c84442a1c5b4b5452b86c6\",\n",
      "  \"choices\": [\n",
      "    {\n",
      "      \"index\": 0,\n",
      "      \"message\": {\n",
      "        \"role\": \"assistant\",\n",
      "        \"content\": \"The Huberman Lab podcast discusses science and science-based tools for everyday life, with a focus on executive function and memory. The guest, Dr. Mark Desposito, is a neurologist and professor of neuroscience and psychology at the University of California, Berkeley. He explains the neural circuits controlling executive function and memory, the role of dopamine in executive function and working memory, and ways to optimize cognitive function. The discussion also covers restoring cognitive function in disease or injury conditions such as traumatic brain injury, concussion, Alzheimer's, Parkinson's, and attention deficit disorders. The podcast is sponsored by Maui Nei venison and JuJu medical-grade red light therapy devices.\",\n",
      "        \"function_call\": null\n",
      "      },\n",
      "      \"delta\": null,\n",
      "      \"finish_reason\": \"stop\"\n",
      "    }\n",
      "  ],\n",
      "  \"created\": 1708923280,\n",
      "  \"model\": \"nous-hermes-2-mixtral-8x7b-dpo\",\n",
      "  \"object\": \"chat.completion\",\n",
      "  \"system_fingerprint\": null,\n",
      "  \"usage\": {\n",
      "    \"completion_tokens\": 153,\n",
      "    \"prompt_tokens\": 885,\n",
      "    \"total_tokens\": 1038\n",
      "  }\n",
      "}\n"
     ]
    }
   ],
   "source": [
    "# import json\n",
    "# print(json.dumps(completion.dict(), indent=2))"
   ]
  },
  {
   "cell_type": "code",
   "execution_count": null,
   "metadata": {},
   "outputs": [],
   "source": []
  }
 ],
 "metadata": {
  "kernelspec": {
   "display_name": "pcs",
   "language": "python",
   "name": "python3"
  },
  "language_info": {
   "codemirror_mode": {
    "name": "ipython",
    "version": 3
   },
   "file_extension": ".py",
   "mimetype": "text/x-python",
   "name": "python",
   "nbconvert_exporter": "python",
   "pygments_lexer": "ipython3",
   "version": "3.12.1"
  }
 },
 "nbformat": 4,
 "nbformat_minor": 2
}
